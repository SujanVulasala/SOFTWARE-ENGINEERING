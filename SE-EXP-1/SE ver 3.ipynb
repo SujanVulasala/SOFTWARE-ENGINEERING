# -*- coding: utf-8 -*-
"""SE ver 3.ipynb

"""

with open('/content/data.txt', 'r') as file:
    a = float(file.readline())
    b = float(file.readline())
    c = float(file.readline())
    x = float(file.readline())
y = a * x * x + b * x + c
print('The value of y is:', y)
